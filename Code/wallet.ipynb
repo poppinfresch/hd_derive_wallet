{
 "cells": [
  {
   "cell_type": "code",
   "execution_count": 30,
   "id": "70a046c9-f1ec-4036-99ce-9dbc53ec91c2",
   "metadata": {},
   "outputs": [
    {
     "name": "stdout",
     "output_type": "stream",
     "text": [
      "btc eth btc-test\n"
     ]
    }
   ],
   "source": [
    "#imports and dependencies\n",
    "import subprocess\n",
    "import json\n",
    "from dotenv import load_dotenv\n",
    "import os\n",
    "import pprint\n",
    "\n",
    "# Import constants.py and necessary functions from bit and web3\n",
    "from constants import *\n",
    "%run constants.py\n",
    "\n",
    "#web3 imports\n",
    "from web3 import Web3\n",
    "from eth_account import Account\n",
    "conn = Web3.HTTPProvider(\"http://127.0.0.1:8545\")\n",
    "w3 = Web3(conn)\n",
    "\n",
    "#bit imports\n",
    "from bit import wif_to_key\n",
    "from bit import PrivateKeyTestnet\n",
    "from bit import PrivateKey\n",
    "from bit import Key\n",
    "from bit.network import NetworkAPI"
   ]
  },
  {
   "cell_type": "code",
   "execution_count": 52,
   "id": "75948312-a5b4-48fa-8b57-0b043ac7b47c",
   "metadata": {},
   "outputs": [
    {
     "name": "stdout",
     "output_type": "stream",
     "text": [
      "canvas smart tube dance speak weapon solution river piano lobster shrimp outer\n"
     ]
    }
   ],
   "source": [
    "# Load and set environment variables\n",
    "load_dotenv()\n",
    "mnemonic=os.getenv(\"mnemonic\")\n",
    "print(mnemonic)"
   ]
  },
  {
   "cell_type": "code",
   "execution_count": 17,
   "id": "9268386d-5f44-4cb3-8cd7-3c80d05113f1",
   "metadata": {},
   "outputs": [],
   "source": [
    "# #constants initialize\n",
    "# BTC = 'btc'\n",
    "# ETH = 'eth'\n",
    "# BTCTEST = 'btc-test'"
   ]
  },
  {
   "cell_type": "code",
   "execution_count": 18,
   "id": "588c8d3e-1e4a-47a6-b83c-80f4279d7555",
   "metadata": {},
   "outputs": [],
   "source": [
    "# Create a function called `derive_wallets`\n",
    "def derive_wallets(coin, mnemonic=mnemonic, numderive=3):\n",
    "    command = f'./derive -g --mnemonic=\"{mnemonic}\" --numderive=\"{numderive}\" --coin=\"{coin}\" --format=json'\n",
    "    p = subprocess.Popen(command, stdout=subprocess.PIPE, shell=True)\n",
    "    (output, err) = p.communicate()\n",
    "    p_status = p.wait()\n",
    "    keys = json.loads(output)\n",
    "    return keys"
   ]
  },
  {
   "cell_type": "code",
   "execution_count": null,
   "id": "1639f961-3511-42d7-aba4-4659d619f47e",
   "metadata": {},
   "outputs": [],
   "source": []
  },
  {
   "cell_type": "code",
   "execution_count": 20,
   "id": "f5fe3a6a-1198-4462-ba9d-cd698723ce37",
   "metadata": {},
   "outputs": [],
   "source": [
    "coins = {\n",
    "    \"btc\":derive_wallets(BTC),\n",
    "    \"eth\":derive_wallets(ETH),\n",
    "    \"btc-test\":derive_wallets(BTCTEST)}"
   ]
  },
  {
   "cell_type": "code",
   "execution_count": 21,
   "id": "c3d546e1-3fdc-4ceb-ae41-a771679b3530",
   "metadata": {},
   "outputs": [
    {
     "name": "stdout",
     "output_type": "stream",
     "text": [
      "{'btc': [{'address': '14BBvsKx5aAXT9Yx5rDvZseh2Cn6Ef9N6B',\n",
      "          'index': 0,\n",
      "          'path': \"m/44'/0'/0'/0/0\",\n",
      "          'privkey': 'Kwn8eAnmC9Xjedo3eynoESLRTmNpnzG86su4vMpQHV9Hm4juAAHF',\n",
      "          'pubkey': '032ccd127363925b8c61d42c09d445406251c64a310dbcaa5059ff888309807ffb',\n",
      "          'pubkeyhash': '22d5a8ead4465ba880e21d8e7ec05e2309c06e44',\n",
      "          'xprv': 'xprvA2VWAADfFkZY4YoPcdRi2uScwBvxGzGPm4X4pHe69sYDnhxJVaLP6143VhZnYmfk8mjHnst9buTaYrYZPeZFjvQns2aZHMChA24SWTH5LWN',\n",
      "          'xpub': 'xpub6FUrZfkZ687qH2sriexiQ3PMVDmSgSzF8HSfcg3hiD5CfWHT37eddoNXLzkgWUWjutZ9vYuWVDWtBW74E4fFEWe1aHfQYh7QXbcRhteBubr'},\n",
      "         {'address': '1F4zsMxCThMF2BcnEWLtoG11gUvAAfzUwW',\n",
      "          'index': 1,\n",
      "          'path': \"m/44'/0'/0'/0/1\",\n",
      "          'privkey': 'L5Sxat7XNFoojku3AAsXPNwFEuEgvkEXxnfdtYBPuw1oQ8nnpx28',\n",
      "          'pubkey': '022dc1be805c5407570c910f9f513659066ea0873389e660c17ee99b3fad301723',\n",
      "          'pubkeyhash': '9a53509bfac14d2d7307ff3291f60f00f80879f1',\n",
      "          'xprv': 'xprvA2VWAADfFkZY6ZHzRRfnyj5dcrtAWUbFrTfirCX2Kw7RFVc4SwqLegTDUcJvTXsxAKQxgnUZnxHmTfz1U1xoEXBJszssGZmyiYC7DzNCBAF',\n",
      "          'xpub': 'xpub6FUrZfkZ687qK3NTXTCoLs2NAtieuwK7DgbKeavdtGeQ8HwCzV9bCUmhKqpiMbmBf5mVS6Bg6eMpSRZCHmwvAWuj8jRmnc17kLP63nsntsS'},\n",
      "         {'address': '19Sfv4gdKz3dxpEdeHwiRfFuw6MqVfV1jj',\n",
      "          'index': 2,\n",
      "          'path': \"m/44'/0'/0'/0/2\",\n",
      "          'privkey': 'KwpFLKGSHaF8YAnYfcf23GFNPqCMgaVeAxMTQijGSNMn9P8vEmga',\n",
      "          'pubkey': '020b35f544c9973886c390d3aaa6086af394697c22fc672b892b151abd11834a81',\n",
      "          'pubkeyhash': '5c9be3cbbcdeaf3a58aa1d12b37d823f35d1936e',\n",
      "          'xprv': 'xprvA2VWAADfFkZY9qpMTAJhMgWccDJp8Q4PsXmJaVDA6Hu9gbyeZ87ZcJTbSsmC81osbP4NF6EHhfN2jD3xiXFFYXnspz7KkQfUxQ9Bo9kee5v',\n",
      "          'xpub': 'xpub6FUrZfkZ687qNKtpZBqhipTMAF9JXrnFEkguNscmedS8ZQJo6fRpA6n5J8k569BdPG8SCbKBT9fT7RwQMAgpX7mbkFr8XL1mE8HrkSV5bDi'}],\n",
      " 'btc-test': [{'address': 'mxUhZeHYqKrofdhf2JPkKHUqy8c5HDgQaZ',\n",
      "               'index': 0,\n",
      "               'path': \"m/44'/1'/0'/0/0\",\n",
      "               'privkey': 'cTfA9kdJMstSgaEZAfqF5VUjeupC5xio9Saq9bQBwBBAgsbdrU5y',\n",
      "               'pubkey': '0363cdd89c5ccaf25d4587a3750b85230400df3d4f6f1df1739330abb57f56a00d',\n",
      "               'pubkeyhash': 'ba0d0268413a3343b1c9617a18b9f188d28fea85',\n",
      "               'xprv': 'tprv8kbKszH3MrWdCEkCeC5hyjtSWHXtskDK3c4uQHMTwxhqR7QAEFdxsAdaAwBbnZHf5akHku9X6pL4AYiv8R4cxJpGfrNiub1oG7P4S9fCgfc',\n",
      "               'xpub': 'tpubDHHN2QKHWECJ5hmzXqkJP9YZ5K3q35QDcufggoPmNEWEFbevreTZ3fFSM5TLnFhsky362nfWdsEL2HkzRXQDQoDnuvQDWDTFRxDSRhGYybU'},\n",
      "              {'address': 'mkpkYLwJWU4z9vU74WbVp3e5qXB6uC1ax9',\n",
      "               'index': 1,\n",
      "               'path': \"m/44'/1'/0'/0/1\",\n",
      "               'privkey': 'cUEhMpp7AFrL6bifvJiAk7uXGufQ7GPGegCzBjSQqHuCmu1B2ivP',\n",
      "               'pubkey': '02741b4266500e0dc66854efce667a30f2bd0df2767b7a19ecbec1722b41884ea7',\n",
      "               'pubkeyhash': '3a364e080a48d39fb9dac737c0dd7fc4b8d7c480',\n",
      "               'xprv': 'tprv8kbKszH3MrWdDoxMt99xdna4TFJKqrWfXXE9KKJTcSR9VJEu3bhTNPDbDkpQe2Mmdp5sw2Fi3N4Q4g3jiuiZ6dxrmPF8F5ZzYyFGanjmqZb',\n",
      "               'xpub': 'tpubDHHN2QKHWECJ7Gz9mnpZ3CEB2GpG1Bha6ppvbqLm2iDYKnVffzX3YsqTPs8zAm8BbjGbgrNqibrFRBGr27Vrvnd8BKRDdU6yY2ZnZQ3yXds'},\n",
      "              {'address': 'n31eoHcwmSwV8K532es1tLXZ2fppaJPNoQ',\n",
      "               'index': 2,\n",
      "               'path': \"m/44'/1'/0'/0/2\",\n",
      "               'privkey': 'cSBN1wZGHmeYcwQrKz4GoLcgh1wuCnAEurBaawgNfPgHiWGbHkyk',\n",
      "               'pubkey': '023b357d13169c9c9eb80c91d6570ae42c7f9bb09437ab8438a6941d6f3cebff88',\n",
      "               'pubkeyhash': 'ebc819753e4ddfbd97de1847c8519b612fa8dd8d',\n",
      "               'xprv': 'tprv8kbKszH3MrWdFh7eviZEqCV1NuXsMdhP5F81ioqhyuprRsJ3mhbc9dp3K8997bpyewopuQ2GnsoV4qVy1Tz5zmjM6BJvGhdEPR94ZTiWCxE',\n",
      "               'xpub': 'tpubDHHN2QKHWECJ9A9SpNDqEc97ww3oWxtHeYio1Kt1QBdFGMYpQ6RCL8RuVEVhPa4UYTqm7wPHtV8TFmqCMvAiDXviVjudeiWf6ZYL6qowJCK'}],\n",
      " 'eth': [{'address': '0x95C554BcEB98E5cD102BF86496ED54E9c8e3E5a3',\n",
      "          'index': 0,\n",
      "          'path': \"m/44'/60'/0'/0/0\",\n",
      "          'privkey': '0x2e70dbe5bdcf6d84935fa6baf8bed377e7131d6c425cbbc972ee33606b5c172a',\n",
      "          'pubkey': '02a28ea5447aa66368e15256656749f14cbb13727e48d2ceb2fb3012ed1bb74ba7',\n",
      "          'pubkeyhash': 'd0ef89d6c71219e8e7c58f92f749b8b7eb4a368a',\n",
      "          'xprv': 'xprvA4AFe5ET3ACwouXYhvbz96vsQptD6tnqCoCVnQEy6Wopdp5m38AxPDHoBbd9q5xZ5fM34Ty14apS1BquVpKBamtj1PXahvyY3uFcfpPMfhw',\n",
      "          'xpub': 'xpub6H9c3amLsXmF2Pc1ox8zWEsbxrihWMWga286aneaerLoWcQuafVCw1cH2sY4JqWRiDBwjHrQWXkJbV1UoG1iviSqqyFVT3s1r9ejwb4pfZ6'},\n",
      "         {'address': '0x49AE94fBaD94aF9Fde5e768e5777B8eb97D7DA21',\n",
      "          'index': 1,\n",
      "          'path': \"m/44'/60'/0'/0/1\",\n",
      "          'privkey': '0x46134ec3fbf7ce3529b070657725aa1f859cea4f3d04a65f86fb11787da7d956',\n",
      "          'pubkey': '03e3dd743e5a1c5035987fa5ad5c8843e43f321e3447f1cf2259039c5d57dba957',\n",
      "          'pubkeyhash': '6cab256443d65af691f58c0b4835305ff363c5cc',\n",
      "          'xprv': 'xprvA4AFe5ET3ACwrJ6SuT8Hr7x9ibbio1qE4nffp1yrethZqgtfefrNbg6Gq3UV5jmXFGmavL2wAad3DXEGukHgKjRRQytYyCZYqXRcrfJTtjR',\n",
      "          'xpub': 'xpub6H9c3amLsXmF4nAv1UfJDFttGdSDCUZ5S1bGcQPUDEEYiVDpCDAd9UQkgMeVE2TYxDdGrrz6Ddtg2v6ejZWGAsQHkaEzvsgpHypK56BuN8B'},\n",
      "         {'address': '0x04091c29c96a768D931257731d0b24E43B9A269a',\n",
      "          'index': 2,\n",
      "          'path': \"m/44'/60'/0'/0/2\",\n",
      "          'privkey': '0xa693173923a3c984872b619d595b7a278042d0d36873c6b7e3ecc18bc75cb003',\n",
      "          'pubkey': '03c8cc721c42c267b33b7d98fccd9ffb9e988b24dafe6ba9f073772ff6d60af888',\n",
      "          'pubkeyhash': '2892e63b7fa681c074b71028b414ccd627fc8919',\n",
      "          'xprv': 'xprvA4AFe5ET3ACwtHGcoPvLyg7cWoihDW3CimgU5Sk3cQefmeutBbf3BxbLUEwvYbasYx4VwqukksAMUzF2Kn16FDt9jd6zo1EjRRK2CenzcYc',\n",
      "          'xpub': 'xpub6H9c3amLsXmF6mM5uRTMLp4M4qZBcxm45zc4sq9fAkBeeTF2j8yHjkupKYBWNVFvRQseaqxKYqTk4VemA9wiMbrqrY9D3ViL3W23P2i3BvB'}]}\n"
     ]
    }
   ],
   "source": [
    "pprint.pprint(coins)"
   ]
  },
  {
   "cell_type": "code",
   "execution_count": 22,
   "id": "34a8476f-2947-4dec-90bc-73c68d2a6e3e",
   "metadata": {},
   "outputs": [
    {
     "name": "stdout",
     "output_type": "stream",
     "text": [
      "Kwn8eAnmC9Xjedo3eynoESLRTmNpnzG86su4vMpQHV9Hm4juAAHF\n",
      "0x2e70dbe5bdcf6d84935fa6baf8bed377e7131d6c425cbbc972ee33606b5c172a\n",
      "cTfA9kdJMstSgaEZAfqF5VUjeupC5xio9Saq9bQBwBBAgsbdrU5y\n"
     ]
    }
   ],
   "source": [
    "#You should now be able to select child accounts, (and thus, private keys) \n",
    "# by accessing items in the coins dictionary like so: \n",
    "# coins[COINTYPE][INDEX]['privkey']btc_privkey\n",
    "btc_privkey = coins['btc'][0]['privkey']\n",
    "eth_privkey = coins['eth'][0]['privkey']\n",
    "btc_test_privkey = coins['btc-test'][0]['privkey']\n",
    "print(btc_privkey)\n",
    "print(eth_privkey)\n",
    "print(btc_test_privkey)"
   ]
  },
  {
   "cell_type": "code",
   "execution_count": 46,
   "id": "c9a8dc5d-6c9c-441f-9168-72e00d593bac",
   "metadata": {},
   "outputs": [],
   "source": [
    "#priv_key_to_account function to convert privkey strings to account objects that bit or web3.py can use to transact. \n",
    "# This function needs the following parameters:\n",
    "# coin -- the coin type (defined in constants.py)\n",
    "# priv_key -- the privkey string will be passed through here.\n",
    "# eth(get address) https://web3js.readthedocs.io/en/v1.2.0/web3-eth-accounts.html#privatekeytoaccount\n",
    "#btc/testnet(get address) https://ofek.dev/bit/dev/api.html\n",
    "def priv_key_to_account(coin, priv_key):\n",
    "    if coin == BTC:\n",
    "        account_address = PrivateKey(priv_key).address\n",
    "    elif coin == ETH:\n",
    "        account_address = Account.privateKeyToAccount(priv_key).address\n",
    "    elif coin == BTCTEST:\n",
    "        account_address = PrivateKeyTestnet(priv_key).address\n",
    "    return account_address\n",
    "\n",
    "    \n",
    "    "
   ]
  },
  {
   "cell_type": "code",
   "execution_count": 51,
   "id": "43d713e7-deb3-4f57-86d1-fd9c1f928bed",
   "metadata": {},
   "outputs": [
    {
     "name": "stdout",
     "output_type": "stream",
     "text": [
      "BTC Account Address: 14BBvsKx5aAXT9Yx5rDvZseh2Cn6Ef9N6B\n",
      "ETH Account Address: 0x95C554BcEB98E5cD102BF86496ED54E9c8e3E5a3\n",
      "BTC-TEST Account Address: mxUhZeHYqKrofdhf2JPkKHUqy8c5HDgQaZ\n"
     ]
    }
   ],
   "source": [
    "#test out the function here:\n",
    "print('BTC Account Address: ' + (priv_key_to_account(BTC, btc_privkey)))\n",
    "\n",
    "print('ETH Account Address: ' + (priv_key_to_account(ETH, eth_privkey)))\n",
    "\n",
    "print('BTC-TEST Account Address: ' + (priv_key_to_account(BTCTEST,btc_test_privkey)))"
   ]
  },
  {
   "cell_type": "code",
   "execution_count": 79,
   "id": "f8e7be56-4348-4579-97c3-56a4a0441754",
   "metadata": {},
   "outputs": [],
   "source": [
    "#create_tx function; this function will create the raw, unsigned transaction that contains all metadata needed to transact.\n",
    "# parameters: coin, account, to, amount\n",
    "#You will need to check the coin type, then return one of the following functions based on the library:\n",
    "\n",
    "def create_tx(coin, account, recipient, amount):\n",
    "    if coin == ETH:\n",
    "        gasEstimate = w3.eth.estimateGas(\n",
    "            {\"from\": account.address, \"to\": recipient, \"value\": amount}\n",
    "        )\n",
    "        return {\n",
    "            \"from\": account.address,\n",
    "            \"to\": recipient,\n",
    "            \"value\": amount,\n",
    "            \"gasPrice\": w3.eth.gasPrice,\n",
    "            \"gas\": gasEstimate,\n",
    "            \"nonce\": w3.eth.getTransactionCount(account.address),\n",
    "            \"chainId\": web3.eth.net.getID([callback])\n",
    "        }\n",
    "    elif coin == BTCTEST:\n",
    "        return PrivateKeyTestnet.prepare_transaction(account.address, [(to, amount, BTC)])\n",
    " \n",
    "        "
   ]
  },
  {
   "cell_type": "code",
   "execution_count": 49,
   "id": "e7b65478-c9c9-4ab2-a866-eb9a50dda62c",
   "metadata": {},
   "outputs": [],
   "source": [
    "# This function will call create_tx, sign the transaction, then send it to the designated network.\n",
    "# parameters (coin, account,\n",
    "def send_tx(coin, account, recipient, amount):\n",
    "    tx = create_raw_tx(account_address, recipient, amount)\n",
    "    if coin == ETH:\n",
    "        signed_tx = account.sign_transaction(tx)\n",
    "        result = w3.eth.sendRawTransaction(signed_tx.rawTransaction)\n",
    "        print(result.hex())\n",
    "        return result.hex()\n",
    "    elif coin == BTCTEST:\n",
    "        tx = create_raw(account, recipient, amount)\n",
    "        signed_tx = account.sign_transaction(tx)\n",
    "        print(signed_tx)\n",
    "        return NetworkAPI.broadcast_tx_testnet(signed_tx)"
   ]
  },
  {
   "cell_type": "code",
   "execution_count": 50,
   "id": "41b4bd5f-984e-48f2-a7eb-efb0a50dd018",
   "metadata": {},
   "outputs": [
    {
     "ename": "NameError",
     "evalue": "name 'create_tx' is not defined",
     "output_type": "error",
     "traceback": [
      "\u001b[0;31m---------------------------------------------------------------------------\u001b[0m",
      "\u001b[0;31mNameError\u001b[0m                                 Traceback (most recent call last)",
      "\u001b[0;32m/var/folders/bn/8vqmv5bs7096lg6nwb7k0fcw0000gn/T/ipykernel_14418/4217925008.py\u001b[0m in \u001b[0;36m<module>\u001b[0;34m\u001b[0m\n\u001b[1;32m      4\u001b[0m \u001b[0;34m\u001b[0m\u001b[0m\n\u001b[1;32m      5\u001b[0m \u001b[0;31m#create btctest tx (send to child account)\u001b[0m\u001b[0;34m\u001b[0m\u001b[0;34m\u001b[0m\u001b[0;34m\u001b[0m\u001b[0m\n\u001b[0;32m----> 6\u001b[0;31m \u001b[0mcreate_tx\u001b[0m\u001b[0;34m(\u001b[0m\u001b[0mBTCTEST\u001b[0m\u001b[0;34m,\u001b[0m \u001b[0mbtctest_acc\u001b[0m\u001b[0;34m,\u001b[0m\u001b[0;34m\"mkpkYLwJWU4z9vU74WbVp3e5qXB6uC1ax9\"\u001b[0m\u001b[0;34m,\u001b[0m \u001b[0;36m0.0015\u001b[0m\u001b[0;34m)\u001b[0m\u001b[0;34m\u001b[0m\u001b[0;34m\u001b[0m\u001b[0m\n\u001b[0m\u001b[1;32m      7\u001b[0m \u001b[0;34m\u001b[0m\u001b[0m\n\u001b[1;32m      8\u001b[0m \u001b[0;31m#send the tx\u001b[0m\u001b[0;34m\u001b[0m\u001b[0;34m\u001b[0m\u001b[0;34m\u001b[0m\u001b[0m\n",
      "\u001b[0;31mNameError\u001b[0m: name 'create_tx' is not defined"
     ]
    }
   ],
   "source": [
    "#BTCTEST create, send tx to another BTCTEST account!\n",
    "#get btctest account address\n",
    "btctest_acc = priv_key_to_account(BTCTEST, btc_test_privkey)\n",
    "\n",
    "#create btctest tx (send to child account)\n",
    "create_tx(BTCTEST, btctest_acc,\"mkpkYLwJWU4z9vU74WbVp3e5qXB6uC1ax9\", 0.0015)\n",
    "\n",
    "#send the tx\n",
    "send_tx(BTCTEST, btctest_acc, \"mkpkYLwJWU4z9vU74WbVp3e5qXB6uC1ax9\", 0.0015)\n"
   ]
  },
  {
   "cell_type": "code",
   "execution_count": null,
   "id": "87044746-5495-4a19-bd15-f4e6d2bf50fb",
   "metadata": {},
   "outputs": [],
   "source": []
  }
 ],
 "metadata": {
  "kernelspec": {
   "display_name": "Python 3 (ipykernel)",
   "language": "python",
   "name": "python3"
  },
  "language_info": {
   "codemirror_mode": {
    "name": "ipython",
    "version": 3
   },
   "file_extension": ".py",
   "mimetype": "text/x-python",
   "name": "python",
   "nbconvert_exporter": "python",
   "pygments_lexer": "ipython3",
   "version": "3.7.11"
  }
 },
 "nbformat": 4,
 "nbformat_minor": 5
}
